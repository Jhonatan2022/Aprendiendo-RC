{
 "cells": [
  {
   "attachments": {},
   "cell_type": "markdown",
   "metadata": {},
   "source": [
    "# Usando React\n",
    "\n",
    "## Requisitos\n",
    "\n",
    "1. Instalar [Node.js](https://nodejs.org/en/download/)\n",
    "\n",
    "* Verificar la instalación de Node.js con el comando ``node -v``  y  ``npm -v``\n",
    "\n",
    "![](Imagenes/Verified%20Install.png)"
   ]
  },
  {
   "attachments": {},
   "cell_type": "markdown",
   "metadata": {},
   "source": [
    "# Creando un projecto con Create React App\n",
    "\n",
    "1. [Create React App](https://create-react-app.dev/)\n",
    "\n",
    "2. Usa el comando ``npx create-react-app + nombre del proyecto`` para crear un nuevo proyecto\n",
    "\n",
    "- + Podemos visualizar la instación correcta y nos brinda unos comandos para ejecutar el proyecto  \n",
    "\n",
    "![](Imagenes/Create%20app.png)\n",
    "\n",
    "* El comando ``npm start`` nos permite ejecutar el proyecto en un servidor local\n",
    "* El comando ``npm run build`` nos permite crear una carpeta de producción\n",
    "* El comando ``npm test`` nos permite ejecutar los test del proyecto\n",
    "* El comando ``npm run eject`` nos permite sacar el proyecto de la configuración de Create React App\n",
    "\n",
    "3. Ejecutamos el proyecto con el comando ``npm start``\n",
    "\n",
    "![](Imagenes/app%20start.png)\n",
    "\n",
    "4. Ejectamos el proyecto con el comando ``npm run build`` crea una carpeta para construir la aplicación\n",
    "\n",
    "![](Imagenes/Create%20File%20Build.png)\n",
    "\n",
    "5. Usaremos el comando ``npm install --save prop-types`` para instalar la librería de prop-types que nos permite validar los tipos de datos que se le pasan a los componentes\n",
    "\n",
    "6. Usaremos el comando ``npm i bootstrap`` para instalar la librería de bootstrap que nos permite usar los estilos de bootstrap\n",
    "\n",
    "7. Usaremos el comando ``npm install react-icons`` para instalar la librería de react-icons que nos permite usar los iconos de react\n",
    "\n",
    "![](Imagenes/Bookstores.png)\n"
   ]
  },
  {
   "attachments": {},
   "cell_type": "markdown",
   "metadata": {},
   "source": [
    "# Creando un proyecto con Vitejs\n",
    "\n",
    "## Requisitos\n",
    "\n",
    "- [Vite](https://vitejs.dev/guide/#scaffolding-your-first-vite-project)\n",
    "1. Instalar [Node.js](https://nodejs.org/en/download/)\n",
    "\n",
    "\n",
    "2. Crear un proyecto con el comando ``npm create vite``\n",
    "\n",
    "* Ingresamos el nombre del proyecto y la plantilla que queremos usar, en este caso usaremos React, y react sin typescript\n",
    "\n",
    "![](Imagenes/Create%20project%20vite.png)\n",
    "\n",
    "3. Ingresaremos a la carpeta e instalaremos las dependencias con el comando ``npm install``\n",
    "\n",
    "![](Imagenes/Install%20dependencies.png)\n",
    "\n",
    "### Comandos a tener en cuenta\n",
    "\n",
    "* El comando ``npm run dev`` nos permite ejecutar el proyecto en un servidor local\n",
    "* El comando ``npm run build`` nos permite crear una carpeta de producción\n",
    "* El comando ``npm run serve`` nos permite ejecutar el proyecto en un servidor local\n",
    "\n"
   ]
  },
  {
   "attachments": {},
   "cell_type": "markdown",
   "metadata": {},
   "source": [
    "## Comando para generar un archivo con las dependencias del proyecto\n",
    "\n",
    "* npm list --prod --depth=0 > dependencies.txt (dependencias, incluye las dependencias de desarrollo y las versiones)\n",
    "\n",
    "## Servicios utiles\n",
    "\n",
    "* [Material UI](https://mui.com/)\n",
    "* [Robo Hash](https://robohash.org/)\n",
    "* [React lybrary](https://react.dev/)\n",
    "* [React Extensions](https://chrome.google.com/webstore/detail/react-developer-tools/fmkadmapgofadopljbjfkapdkoienihi)\n",
    "\n",
    "### Algunas librerías usadas\n",
    "\n",
    "* [React Icons](https://react-icons.github.io/react-icons/icons?name=fa)\n",
    "* [Bootstrap](https://react-bootstrap.github.io/getting-started/introduction/)\n",
    "* [React Prop Types](https://www.npmjs.com/package/prop-types)"
   ]
  }
 ],
 "metadata": {
  "language_info": {
   "name": "python"
  },
  "orig_nbformat": 4
 },
 "nbformat": 4,
 "nbformat_minor": 2
}
