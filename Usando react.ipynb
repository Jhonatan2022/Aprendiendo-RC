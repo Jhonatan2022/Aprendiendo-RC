{
 "cells": [
  {
   "cell_type": "code",
   "execution_count": null,
   "metadata": {},
   "outputs": [],
   "source": []
  },
  {
   "attachments": {},
   "cell_type": "markdown",
   "metadata": {},
   "source": [
    "# Usando React\n",
    "\n",
    "## Requisitos\n",
    "\n",
    "1. Instalar [Node.js](https://nodejs.org/en/download/)\n",
    "\n",
    "* Verificar la instalación de Node.js con el comando ``node -v`` y ``npm -v``\n",
    "\n",
    "![](Imagenes/Verified%20Install.png)\n",
    "\n",
    "# Cómo crear un nuevo proyecto en React\n",
    "\n",
    "1. Nos dirigiremos a la consola y digitaremos el siguiente comando: ``npx create vite``\n",
    "\n",
    "* crearemos un proyecto con el comando npx create react-app\n",
    "\n",
    "* Ingresa el nombre del proyecto y selecciona la opción de React\n",
    "\n",
    "![](Imagenes/create%20project.png)\n",
    "\n",
    "* Seleccionaremos la variante de JavaScript\n",
    "\n",
    "![](Imagenes/variant%20javascript.png)"
   ]
  }
 ],
 "metadata": {
  "language_info": {
   "name": "python"
  },
  "orig_nbformat": 4
 },
 "nbformat": 4,
 "nbformat_minor": 2
}
