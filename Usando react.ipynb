{
 "cells": [
  {
   "attachments": {},
   "cell_type": "markdown",
   "metadata": {},
   "source": [
    "# Usando React\n",
    "\n",
    "## Requisitos\n",
    "\n",
    "1. Instalar [Node.js](https://nodejs.org/en/download/)\n",
    "\n",
    "* Verificar la instalación de Node.js con el comando ``node -v``  y  ``npm -v``\n",
    "\n",
    "![](Imagenes/Verified%20Install.png)"
   ]
  },
  {
   "attachments": {},
   "cell_type": "markdown",
   "metadata": {},
   "source": [
    "# Creando un projecto con Create React App\n",
    "\n",
    "1. Instalar [Create React App](https://create-react-app.dev/)\n",
    "\n",
    "2. Usa el comando ``npx create-react-app + nombre del proyecto`` para crear un nuevo proyecto\n",
    "\n",
    "- + Podemos visualizar la instación correcta y nos brinda unos comandos para ejecutar el proyecto  \n",
    "\n",
    "![](Imagenes/Create%20app.png)\n",
    "\n",
    "* El comando ``npm start`` nos permite ejecutar el proyecto en un servidor local\n",
    "* El comando ``npm run build`` nos permite crear una carpeta de producción\n",
    "* El comando ``npm test`` nos permite ejecutar los test del proyecto\n",
    "* El comando ``npm run eject`` nos permite sacar el proyecto de la configuración de Create React App\n",
    "\n",
    "3. Ejecutamos el proyecto con el comando ``npm start``\n",
    "\n",
    "![](Imagenes/app%20start.png)\n",
    "\n",
    "4. Ejectamos el proyecto con el comando ``npm run build`` crea una carpeta para construir la aplicación\n",
    "\n",
    "![](Imagenes/Create%20File%20Build.png)\n"
   ]
  },
  {
   "attachments": {},
   "cell_type": "markdown",
   "metadata": {},
   "source": [
    "## Comando para generar un archivo con las dependencias del proyecto\n",
    "\n",
    "* npm list --prod --depth=0 > dependencies.txt (dependencias, incluye las dependencias de desarrollo y las versiones)"
   ]
  }
 ],
 "metadata": {
  "language_info": {
   "name": "python"
  },
  "orig_nbformat": 4
 },
 "nbformat": 4,
 "nbformat_minor": 2
}
